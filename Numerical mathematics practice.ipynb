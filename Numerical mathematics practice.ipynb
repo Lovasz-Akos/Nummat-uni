{
  "nbformat": 4,
  "nbformat_minor": 0,
  "metadata": {
    "colab": {
      "name": "nummat",
      "provenance": [],
      "collapsed_sections": [],
      "authorship_tag": "ABX9TyNMIrMCAI2HN4ZXYga+oMql",
      "include_colab_link": true
    },
    "kernelspec": {
      "name": "python3",
      "display_name": "Python 3"
    }
  },
  "cells": [
    {
      "cell_type": "markdown",
      "metadata": {
        "id": "view-in-github",
        "colab_type": "text"
      },
      "source": [
        "<a href=\"https://colab.research.google.com/github/Lovasz-Akos/Nummat-uni/blob/main/Numerical%20mathematics%20practice.ipynb\" target=\"_parent\"><img src=\"https://colab.research.google.com/assets/colab-badge.svg\" alt=\"Open In Colab\"/></a>"
      ]
    },
    {
      "cell_type": "code",
      "metadata": {
        "id": "5qs_D_rgX6ET"
      },
      "source": [
        "import numpy as np"
      ],
      "execution_count": null,
      "outputs": []
    },
    {
      "cell_type": "code",
      "metadata": {
        "id": "5P31k2hJRuFq"
      },
      "source": [
        "def newton(f,Df,x0,epsilon,max_iter):\n",
        "    xn = x0\n",
        "    for n in range(0,max_iter):\n",
        "        fxn = f(xn)\n",
        "        if abs(fxn) < epsilon:\n",
        "            print('Megoldás',n,' iteráció után.')\n",
        "            return xn\n",
        "        Dfxn = Df(xn)\n",
        "        if Dfxn == 0:\n",
        "            print('Nem talált megodást.')\n",
        "            return None\n",
        "        xn = xn - fxn/Dfxn\n",
        "    print('Több mint max iter, nem talált megoldást.')\n",
        "    return None"
      ],
      "execution_count": null,
      "outputs": []
    },
    {
      "cell_type": "code",
      "metadata": {
        "id": "wIkWvplxWNp2",
        "outputId": "349aefe0-9f6a-4e06-d91b-a74629ae53e4",
        "colab": {
          "base_uri": "https://localhost:8080/"
        }
      },
      "source": [
        "p = lambda x: np.cos(x) - x*x*x\n",
        "Dp = lambda x: 3*x**2 - 2*x\n",
        "\n",
        "approx = newton(p,Dp,1,1e-10,100)\n",
        "print(approx)"
      ],
      "execution_count": null,
      "outputs": [
        {
          "output_type": "stream",
          "name": "stdout",
          "text": [
            "Több mint max iter, nem talált megoldást.\n",
            "None\n"
          ]
        }
      ]
    },
    {
      "cell_type": "code",
      "metadata": {
        "id": "9JEtd-xKWVPp"
      },
      "source": [
        "def felezo(f, a, b, epsilon, max_iter):\n",
        "  for n in range(0,max_iter):\n",
        "    c = (a + b) / 2\n",
        "    if np.sign(f(c)) == np.sign(f(b)):\n",
        "      b = c\n",
        "    else:\n",
        "      a = c\n",
        "    if np.abs(a-b) < epsilon:\n",
        "      break\n",
        "  return c"
      ],
      "execution_count": null,
      "outputs": []
    },
    {
      "cell_type": "code",
      "metadata": {
        "id": "maHggnVrXbdQ",
        "outputId": "c2db9b7b-52ba-4ff7-9e08-8348b01c2c22",
        "colab": {
          "base_uri": "https://localhost:8080/"
        }
      },
      "source": [
        "approx2 = felezo(p,-5,10,1e-10,100)\n",
        "print(approx2)"
      ],
      "execution_count": null,
      "outputs": [
        {
          "output_type": "stream",
          "name": "stdout",
          "text": [
            "0.865474033071223\n"
          ]
        }
      ]
    },
    {
      "cell_type": "code",
      "metadata": {
        "id": "LdZhJ9ALaERR"
      },
      "source": [
        "def hur(f, a, b, epsilon, max_iter):\n",
        "  for n in range(0,max_iter):\n",
        "    c = b-f(b)*(b-a)/(f(b)-f(a))\n",
        "    if np.sign(f(c)) == np.sign(f(b)):\n",
        "      b = c\n",
        "    else:\n",
        "      a = c\n",
        "    if np.abs(a-b) < epsilon:\n",
        "      break\n",
        "  return c"
      ],
      "execution_count": null,
      "outputs": []
    },
    {
      "cell_type": "code",
      "metadata": {
        "id": "vaZvklPAezBx",
        "outputId": "f0907a21-afa1-4895-de81-f793cb98c957",
        "colab": {
          "base_uri": "https://localhost:8080/"
        }
      },
      "source": [
        "approx3 = hur(p, -5, 5, 1e-10, 100)\n",
        "print(approx3)"
      ],
      "execution_count": null,
      "outputs": [
        {
          "output_type": "stream",
          "name": "stdout",
          "text": [
            "0.8654064088557849\n"
          ]
        }
      ]
    },
    {
      "cell_type": "code",
      "metadata": {
        "id": "cRLvwYNgfDoJ"
      },
      "source": [
        "def szelo(f, a, b, epsilon, max_iter):\n",
        "  for n in range(0, max_iter):\n",
        "    d = (b-a) / ( f(b)-f(a) ) * f(b)\n",
        "    if (np.abs(f(d)) < epsilon):\n",
        "      return b\n",
        "    a = b\n",
        "    b = b - d\n",
        "  return b"
      ],
      "execution_count": null,
      "outputs": []
    },
    {
      "cell_type": "code",
      "metadata": {
        "id": "ZBSpunfA1DdG",
        "outputId": "74127cdb-c448-4dc1-bcf9-18609d086cbc",
        "colab": {
          "base_uri": "https://localhost:8080/"
        }
      },
      "source": [
        "approx4 = szelo(p, 0, 1, 1e-10, 100)\n",
        "print(approx4)"
      ],
      "execution_count": null,
      "outputs": [
        {
          "output_type": "stream",
          "name": "stdout",
          "text": [
            "nan\n"
          ]
        },
        {
          "output_type": "stream",
          "name": "stderr",
          "text": [
            "/usr/local/lib/python3.7/dist-packages/ipykernel_launcher.py:3: RuntimeWarning: invalid value encountered in double_scalars\n",
            "  This is separate from the ipykernel package so we can avoid doing imports until\n"
          ]
        }
      ]
    },
    {
      "cell_type": "code",
      "metadata": {
        "id": "pLkTgOvv1NKP"
      },
      "source": [
        ""
      ],
      "execution_count": null,
      "outputs": []
    },
    {
      "cell_type": "code",
      "metadata": {
        "id": "ed5hXGkSgtT_"
      },
      "source": [
        "def trapez(f,a,b,N=50):\n",
        "    x = np.linspace(a,b,N+1) # N+1 points make N subintervals\n",
        "    y = f(x)\n",
        "    y_right = y[1:] # right endpoints\n",
        "    y_left = y[:-1] # left endpoints\n",
        "    dx = (b - a)/N\n",
        "    T = (dx/2) * np.sum(y_right + y_left)\n",
        "    return T"
      ],
      "execution_count": null,
      "outputs": []
    }
  ]
}